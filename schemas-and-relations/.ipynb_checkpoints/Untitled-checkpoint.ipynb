{
 "cells": [
  {
   "cell_type": "markdown",
   "id": "ee0788be",
   "metadata": {},
   "source": [
    "# Creating database and collections"
   ]
  },
  {
   "cell_type": "code",
   "execution_count": null,
   "id": "9ac684b5",
   "metadata": {},
   "outputs": [],
   "source": [
    "use shop\n",
    "db.products.insertOne({name: \"A book\", \"price\": 12.99})\n",
    "db.products.insertOne({title: \"T-shirt\", seller: {name: \"Max\", age: 29}})"
   ]
  },
  {
   "cell_type": "markdown",
   "id": "2c10624f",
   "metadata": {},
   "source": [
    "# Show data"
   ]
  },
  {
   "cell_type": "markdown",
   "id": "8d825a52",
   "metadata": {},
   "source": [
    "db.products.find()"
   ]
  },
  {
   "cell_type": "markdown",
   "id": "ddad020c",
   "metadata": {},
   "source": [
    "# Delete data"
   ]
  },
  {
   "cell_type": "code",
   "execution_count": null,
   "id": "942291f3",
   "metadata": {},
   "outputs": [],
   "source": [
    "db.prodcuts.deleteMany({})"
   ]
  },
  {
   "cell_type": "markdown",
   "id": "5bd9003a",
   "metadata": {},
   "source": [
    "# Schemas"
   ]
  },
  {
   "cell_type": "markdown",
   "id": "583f5093",
   "metadata": {},
   "source": [
    "## Schema with extra data"
   ]
  },
  {
   "cell_type": "code",
   "execution_count": null,
   "id": "36f5f6ca",
   "metadata": {},
   "outputs": [],
   "source": [
    "db.products.insertOne({name: \"A book\", \"price\": 12.99})\n",
    "db.products.insertOne({name: \"A T-Shirt\", \"price\": 20.99})\n",
    "db.products.insertOne({name: \"A Computer\", \"price\": 1220.99, details: {cpu: \"Intel i7 8770\"}})\n",
    "db.products.find()"
   ]
  },
  {
   "cell_type": "markdown",
   "id": "a68e86af",
   "metadata": {},
   "source": [
    "## Schema with the same data structure"
   ]
  },
  {
   "cell_type": "code",
   "execution_count": null,
   "id": "bbd0d86c",
   "metadata": {},
   "outputs": [],
   "source": [
    "db.products.insertOne({name: \"A book\", \"price\": 12.99, details: null})\n",
    "db.products.insertOne({name: \"A T-Shirt\", \"price\": 20.99, detials: null})\n",
    "db.products.insertOne({name: \"A Computer\", \"price\": 1220.99, details: {cpu: \"Intel i7 8770\"}})\n",
    "db.products.find()"
   ]
  },
  {
   "cell_type": "markdown",
   "id": "ef57703a",
   "metadata": {},
   "source": [
    "# Data types"
   ]
  },
  {
   "cell_type": "code",
   "execution_count": null,
   "id": "283a4a20",
   "metadata": {},
   "outputs": [],
   "source": [
    "use companyData\n",
    "db.companies.insertOne({name: \"Oskar Industries\", \n",
    "                        isStartup: true, \n",
    "                        employees: 33, \n",
    "                        funding: 12345678901234567890, \n",
    "                        details: {ceo: \"Oskar Pasko\"}, \n",
    "                        tags: [{title: \"super\"}, {title: \"programming\"}], \n",
    "                        foundingDate: new Date(), \n",
    "                        insertedAt: new Timestamp()})\n",
    "db.companies.find()"
   ]
  },
  {
   "cell_type": "code",
   "execution_count": null,
   "id": "95b6e9dd",
   "metadata": {},
   "outputs": [],
   "source": [
    "db.numbers.insertOne({a: 1})\n",
    "db.numbers.find()\n",
    "db.stats()\n",
    "\n",
    "db.numbers.deleteMany({})\n",
    "db.numbers.insertOne({a: NumberInt(1)})\n",
    "db.stats()"
   ]
  },
  {
   "cell_type": "markdown",
   "id": "034a4c29",
   "metadata": {},
   "source": [
    "##  Type of data"
   ]
  },
  {
   "cell_type": "code",
   "execution_count": null,
   "id": "84c02f32",
   "metadata": {},
   "outputs": [],
   "source": [
    "typeof db.numbers.findOne().a"
   ]
  },
  {
   "cell_type": "markdown",
   "id": "d15a2a5f",
   "metadata": {},
   "source": [
    "# Relations"
   ]
  },
  {
   "cell_type": "markdown",
   "id": "c21a5dbe",
   "metadata": {},
   "source": [
    "## One-To-One Embedded"
   ]
  },
  {
   "cell_type": "code",
   "execution_count": null,
   "id": "7800e5d9",
   "metadata": {},
   "outputs": [],
   "source": [
    "use hospital\n",
    "db.patients.insertOne({name: \"Max\", age: 29, diseaseSummary: \"summary-max-1\"})\n",
    "db.diseaseSummaries.insertOne({_id: \"summary-max-1\", diseases: [\"cold\", \"broken leg\"]})\n",
    "\n",
    "var dsid = db.patients.findOne().diseaseSummary\n",
    "db.diseaseSummaries.findOne({_id: dsid})"
   ]
  },
  {
   "cell_type": "markdown",
   "id": "540ff942",
   "metadata": {},
   "source": [
    "### Better way"
   ]
  },
  {
   "cell_type": "code",
   "execution_count": null,
   "id": "5117561b",
   "metadata": {},
   "outputs": [],
   "source": [
    "db.patients.insertOne({name: \"Max\", age: 29, diseaseSummary: {diseases: [\"cold\", \"broken leg\"]}})\n",
    "db.patients.findOne()"
   ]
  },
  {
   "cell_type": "markdown",
   "id": "ab8b8a28",
   "metadata": {},
   "source": [
    "## One-To-One References"
   ]
  },
  {
   "cell_type": "code",
   "execution_count": null,
   "id": "4cdec69e",
   "metadata": {},
   "outputs": [],
   "source": [
    "use cardData\n",
    "db.persons.insertOne({name: \"Oskr\", age: 23, salary: 3000})\n",
    "db.cars.insertOne({model: \"BMW\", price: 40000, owner: ObjectId(\"64a1b44a3a6cff906ef18f47\")})\n",
    "\n",
    "var car = db.persons.findOne()._id\n",
    "db.cars.findOne({owner: car})"
   ]
  },
  {
   "cell_type": "markdown",
   "id": "b68c4d7e",
   "metadata": {},
   "source": [
    "## One-To-Many Embedded"
   ]
  },
  {
   "cell_type": "code",
   "execution_count": null,
   "id": "0045ee20",
   "metadata": {},
   "outputs": [],
   "source": [
    "db.questionThreads.insertOne({creator: \"Oskar\", \n",
    "                              question: \"How does that all work?\", \n",
    "                              answers: [{text: \"Like that\"}, {text: \"Thanks!\"}]})"
   ]
  },
  {
   "cell_type": "markdown",
   "id": "b9e7192f",
   "metadata": {},
   "source": [
    "## One-To-Many References"
   ]
  },
  {
   "cell_type": "code",
   "execution_count": null,
   "id": "75734399",
   "metadata": {},
   "outputs": [],
   "source": [
    "use cityData\n",
    "db.cities.insertOne({name: \"Rzeszów\"})\n",
    "db.citizens.insertMany([{name: \"Oskar\", cityId: ObjectId(\"64a1bb783a6cff906ef18f4a\")},\n",
    "                        {name: \"Michał\", cityId: ObjectId(\"64a1bb783a6cff906ef18f4a\")}])\n",
    "\n",
    "\n"
   ]
  },
  {
   "cell_type": "markdown",
   "id": "42ad59c6",
   "metadata": {},
   "source": [
    "## Many-To-Many Embedded"
   ]
  },
  {
   "cell_type": "code",
   "execution_count": null,
   "id": "d3d26d3e",
   "metadata": {},
   "outputs": [],
   "source": [
    "use shopMany\n",
    "db.customers.insertOne({name: \"Oskar\", age:23})\n",
    "db.customers.updateOne({}, {$set: {orders: [{title: \"A Book\", price: 12.99, quantity: 2}]}})"
   ]
  },
  {
   "cell_type": "markdown",
   "id": "29eb30ea",
   "metadata": {},
   "source": [
    "## Many-To-Many References"
   ]
  },
  {
   "cell_type": "code",
   "execution_count": null,
   "id": "e826919e",
   "metadata": {},
   "outputs": [],
   "source": [
    "use bookData\n",
    "db.books.insertOne({name: \"Some Book\", authors: []})\n",
    "db.authors.insertMany([{name: \"Oskar\", age:23, address: {street: \"Main\"}}, \n",
    "                       {name: \"Max\", age:33, address: {street: \"Double\"}}])\n",
    "db.books.updateOne({}, {$set: {authors: [ObjectId(\"64a1c4443a6cff906ef18f50\"),\n",
    "                                         ObjectId(\"64a1c4443a6cff906ef18f51\")]}})"
   ]
  },
  {
   "cell_type": "markdown",
   "id": "7936901e",
   "metadata": {},
   "source": [
    "## lookup"
   ]
  },
  {
   "cell_type": "code",
   "execution_count": null,
   "id": "b181f683",
   "metadata": {},
   "outputs": [],
   "source": [
    "db.books.aggregate([{$lookup: {from: \"authors\", localField: \"authors\", foreignField: \"_id\", as: \"creators\"}}])"
   ]
  },
  {
   "cell_type": "markdown",
   "id": "d45b3102",
   "metadata": {},
   "source": [
    "# Document validation"
   ]
  },
  {
   "cell_type": "code",
   "execution_count": null,
   "id": "952a7b6c",
   "metadata": {},
   "outputs": [],
   "source": [
    "db.createCollection('posts', {\n",
    "  validator: {\n",
    "    $jsonSchema: {\n",
    "      bsonType: 'object',\n",
    "      required: ['title', 'text', 'creator', 'comments'],\n",
    "      properties: {\n",
    "        title: {\n",
    "          bsonType: 'string',\n",
    "          description: 'must be a string and is required'\n",
    "        },\n",
    "        text: {\n",
    "          bsonType: 'string',\n",
    "          description: 'must be a string and is required'\n",
    "        },\n",
    "        creator: {\n",
    "          bsonType: 'objectId',\n",
    "          description: 'must be an objectid and is required'\n",
    "        },\n",
    "        comments: {\n",
    "          bsonType: 'array',\n",
    "          description: 'must be an array and is required',\n",
    "          items: {\n",
    "            bsonType: 'object',\n",
    "            required: ['text', 'author'],\n",
    "            properties: {\n",
    "              text: {\n",
    "                bsonType: 'string',\n",
    "                description: 'must be a string and is required'\n",
    "              },\n",
    "              author: {\n",
    "                bsonType: 'objectId',\n",
    "                description: 'must be an objectid and is required'\n",
    "              }\n",
    "            }\n",
    "          }\n",
    "        }\n",
    "      }\n",
    "    }\n",
    "  }\n",
    "});"
   ]
  },
  {
   "cell_type": "markdown",
   "id": "085a60c7",
   "metadata": {},
   "source": [
    "## Changing the Validation Action"
   ]
  },
  {
   "cell_type": "code",
   "execution_count": null,
   "id": "78fccf71",
   "metadata": {},
   "outputs": [],
   "source": [
    "db.runCommand({\n",
    "  collMod: 'posts',\n",
    "  validator: {\n",
    "    $jsonSchema: {\n",
    "      bsonType: 'object',\n",
    "      required: ['title', 'text', 'creator', 'comments'],\n",
    "      properties: {\n",
    "        title: {\n",
    "          bsonType: 'string',\n",
    "          description: 'must be a string and is required'\n",
    "        },\n",
    "        text: {\n",
    "          bsonType: 'string',\n",
    "          description: 'must be a string and is required'\n",
    "        },\n",
    "        creator: {\n",
    "          bsonType: 'objectId',\n",
    "          description: 'must be an objectid and is required'\n",
    "        },\n",
    "        comments: {\n",
    "          bsonType: 'array',\n",
    "          description: 'must be an array and is required',\n",
    "          items: {\n",
    "            bsonType: 'object',\n",
    "            required: ['text', 'author'],\n",
    "            properties: {\n",
    "              text: {\n",
    "                bsonType: 'string',\n",
    "                description: 'must be a string and is required'\n",
    "              },\n",
    "              author: {\n",
    "                bsonType: 'objectId',\n",
    "                description: 'must be an objectid and is required'\n",
    "              }\n",
    "            }\n",
    "          }\n",
    "        }\n",
    "      }\n",
    "    }\n",
    "  },\n",
    "  validationAction: 'warn'\n",
    "});"
   ]
  }
 ],
 "metadata": {
  "kernelspec": {
   "display_name": "Python 3 (ipykernel)",
   "language": "python",
   "name": "python3"
  },
  "language_info": {
   "codemirror_mode": {
    "name": "ipython",
    "version": 3
   },
   "file_extension": ".py",
   "mimetype": "text/x-python",
   "name": "python",
   "nbconvert_exporter": "python",
   "pygments_lexer": "ipython3",
   "version": "3.10.11"
  }
 },
 "nbformat": 4,
 "nbformat_minor": 5
}
