{
 "cells": [
  {
   "cell_type": "markdown",
   "id": "9e1d4525",
   "metadata": {},
   "source": [
    "# Classic insert"
   ]
  },
  {
   "cell_type": "code",
   "execution_count": null,
   "id": "9093763d",
   "metadata": {},
   "outputs": [],
   "source": [
    "use contactData\n",
    "db.person.insertOne({name: \"Oskar\", age: 23, hobbies: [\"sports\", \"cooking\"]})\n",
    "db.person.insertOne({name: \"Max\", age: 30, hobbies: [\"food\", \"cooking\"]})\n",
    "\n",
    "db.person.insertMany([{name: \"Anna\", age: 40, hobbies: [\"food\", \"cooking\"]}, \n",
    "                      {name: \"Peter\", age: 33, hobbies: [\"food\"]}])"
   ]
  },
  {
   "cell_type": "markdown",
   "id": "eddaf6fb",
   "metadata": {},
   "source": [
    "# Ordered inserts"
   ]
  },
  {
   "cell_type": "code",
   "execution_count": null,
   "id": "ae799797",
   "metadata": {},
   "outputs": [],
   "source": [
    "db.hobbies.insertMany([{_id: \"sports\", name: \"Sport\"}, \n",
    "                       {_id: \"cooking\", name: \"Cooking\"}, \n",
    "                       {_id: \"cars\", name: \"Cars\"}])\n",
    "\n",
    "db.hobbies.insertMany([{_id: \"yoga\", name: \"Yoga\"}, \n",
    "                       {_id: \"cooking\", name: \"Cooking\"}, \n",
    "                       {_id: \"hiking\", name: \"Hiking \"}])\n",
    "\n",
    "db.hobbies.insertMany([{_id: \"yoga\", name: \"Yoga\"}, \n",
    "                       {_id: \"cooking\", name: \"Cooking\"}, \n",
    "                       {_id: \"hiking\", name: \"Hiking \"}], \n",
    "                      {ordered: false})"
   ]
  },
  {
   "cell_type": "markdown",
   "id": "c632d309",
   "metadata": {},
   "source": [
    "# Write Concern"
   ]
  },
  {
   "cell_type": "code",
   "execution_count": null,
   "id": "d1011d89",
   "metadata": {},
   "outputs": [],
   "source": [
    "db.person.insertOne({name: \"Seba\", age: 26}, {writeConcern: {w: 1, j: true}})"
   ]
  },
  {
   "cell_type": "markdown",
   "id": "a4aa6af8",
   "metadata": {},
   "source": [
    "# Importing json file"
   ]
  },
  {
   "cell_type": "markdown",
   "id": "9e50502c",
   "metadata": {},
   "source": [
    "Coommand at the terminal (You should be in the folder where the file exists)"
   ]
  },
  {
   "cell_type": "code",
   "execution_count": null,
   "id": "80fec5cf",
   "metadata": {},
   "outputs": [],
   "source": [
    "mongoimport <file> -d <database> -c <collection> --jsonArray --drop\n",
    "\n",
    "#for example\n",
    "mongoimport tv-shows.json -d movieData -c movies --jsonArray --drop"
   ]
  }
 ],
 "metadata": {
  "kernelspec": {
   "display_name": "Python 3 (ipykernel)",
   "language": "python",
   "name": "python3"
  },
  "language_info": {
   "codemirror_mode": {
    "name": "ipython",
    "version": 3
   },
   "file_extension": ".py",
   "mimetype": "text/x-python",
   "name": "python",
   "nbconvert_exporter": "python",
   "pygments_lexer": "ipython3",
   "version": "3.10.11"
  }
 },
 "nbformat": 4,
 "nbformat_minor": 5
}
